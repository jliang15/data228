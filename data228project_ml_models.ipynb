{
  "cells": [
    {
      "cell_type": "code",
      "execution_count": 1,
      "id": "d899ef67",
      "metadata": {
        "id": "d899ef67"
      },
      "outputs": [],
      "source": [
        "import pandas as pd\n",
        "from sklearn.model_selection import train_test_split\n",
        "from sklearn.ensemble import RandomForestClassifier, GradientBoostingClassifier\n",
        "from sklearn.metrics import accuracy_score\n",
        "import numpy as np\n",
        "from sklearn.preprocessing import LabelEncoder\n",
        "from imblearn.under_sampling import RandomUnderSampler\n",
        "\n",
        "from pyspark.sql import SparkSession\n",
        "from pyspark.ml import Pipeline\n",
        "from pyspark.ml.classification import RandomForestClassifier, GBTClassifier\n",
        "from pyspark.ml.feature import VectorAssembler\n",
        "from pyspark.ml.evaluation import MulticlassClassificationEvaluator\n",
        "from pyspark.ml.feature import StringIndexer\n",
        "\n",
        "np.random.seed(42)"
      ]
    },
    {
      "cell_type": "code",
      "execution_count": null,
      "metadata": {},
      "outputs": [],
      "source": [
        "# pip install pyspark"
      ]
    },
    {
      "cell_type": "code",
      "execution_count": null,
      "id": "CymePv1f3_ne",
      "metadata": {
        "colab": {
          "base_uri": "https://localhost:8080/"
        },
        "id": "CymePv1f3_ne",
        "outputId": "34033e19-ce26-4af7-ca23-f04f1cfe5b9a"
      },
      "outputs": [],
      "source": [
        "# Load the Drive helper and mount\n",
        "from google.colab import drive\n",
        "\n",
        "# This will prompt for authorization.\n",
        "drive.mount('/content/drive')"
      ]
    },
    {
      "cell_type": "markdown",
      "id": "9mGPz0IftMdU",
      "metadata": {
        "id": "9mGPz0IftMdU"
      },
      "source": [
        "Load feature data"
      ]
    },
    {
      "cell_type": "code",
      "execution_count": 3,
      "id": "yZC9P_LClbiK",
      "metadata": {
        "colab": {
          "base_uri": "https://localhost:8080/"
        },
        "id": "yZC9P_LClbiK",
        "outputId": "cd1624b5-75e3-4af0-8424-036720fc82d7"
      },
      "outputs": [
        {
          "name": "stdout",
          "output_type": "stream",
          "text": [
            "total count of feature data: 3111213\n",
            "missing data count in raw data:\n",
            "#YY                0\n",
            "MM                 0\n",
            "DD                 0\n",
            "hh                 0\n",
            "mm                 0\n",
            "WDIR          992810\n",
            "WSPD          986877\n",
            "GST          1201764\n",
            "WVHT         2829788\n",
            "DPD          2829788\n",
            "APD          2829787\n",
            "MWD          2852039\n",
            "PRES             179\n",
            "ATMP          466734\n",
            "WTMP         1634345\n",
            "DEWP         2312132\n",
            "VIS          2425237\n",
            "TIDE         3111213\n",
            "timestamp          0\n",
            "year               0\n",
            "month              0\n",
            "day                0\n",
            "hour               0\n",
            "minute             0\n",
            "dtype: int64\n"
          ]
        }
      ],
      "source": [
        "dataset_path = '/content/drive/Shared drives/DATA 228/Group Project/'\n",
        "\n",
        "'''load feature data'''\n",
        "\n",
        "feature_file_paths = [\n",
        "    dataset_path+'dataset/46013h2014.txt', dataset_path+'dataset/46013h2015.txt', dataset_path+'dataset/46013h2016.txt', dataset_path+'dataset/46013h2017.txt', dataset_path+'dataset/46013h2018.txt', dataset_path+'dataset/46013h2019.txt', dataset_path+'dataset/46013h2021.txt', dataset_path+'dataset/46013h2022.txt',\n",
        "    dataset_path+'dataset/46026h2014.txt', dataset_path+'dataset/46026h2015.txt', dataset_path+'dataset/46026h2016.txt', dataset_path+'dataset/46026h2017.txt', dataset_path+'dataset/46026h2018.txt', dataset_path+'dataset/46026h2019.txt', dataset_path+'dataset/46026h2020.txt', dataset_path+'dataset/46026h2021.txt', dataset_path+'dataset/46026h2022.txt',\n",
        "    dataset_path+'dataset/46237h2014.txt', dataset_path+'dataset/46237h2015.txt', dataset_path+'dataset/46237h2016.txt', dataset_path+'dataset/46237h2017.txt', dataset_path+'dataset/46237h2018.txt', dataset_path+'dataset/46237h2019.txt', dataset_path+'dataset/46237h2020.txt', dataset_path+'dataset/46237h2021.txt', dataset_path+'dataset/46237h2022.txt',\n",
        "    dataset_path+'dataset/ftpc1h2014.txt', dataset_path+'dataset/ftpc1h2015.txt', dataset_path+'dataset/ftpc1h2016.txt', dataset_path+'dataset/ftpc1h2017.txt', dataset_path+'dataset/ftpc1h2018.txt', dataset_path+'dataset/ftpc1h2019.txt', dataset_path+'dataset/ftpc1h2020.txt', dataset_path+'dataset/ftpc1h2021.txt', dataset_path+'dataset/ftpc1h2022.txt',\n",
        "    dataset_path+'dataset/pxoc1h2014.txt', dataset_path+'dataset/pxoc1h2015.txt', dataset_path+'dataset/pxoc1h2016.txt', dataset_path+'dataset/pxoc1h2017.txt', dataset_path+'dataset/pxoc1h2018.txt', dataset_path+'dataset/pxoc1h2019.txt', dataset_path+'dataset/pxoc1h2020.txt', dataset_path+'dataset/pxoc1h2021.txt', dataset_path+'dataset/pxoc1h2022.txt',\n",
        "    dataset_path+'dataset/pxsc1h2014.txt', dataset_path+'dataset/pxsc1h2015.txt', dataset_path+'dataset/pxsc1h2016.txt', dataset_path+'dataset/pxsc1h2017.txt', dataset_path+'dataset/pxsc1h2018.txt', dataset_path+'dataset/pxsc1h2019.txt', dataset_path+'dataset/pxsc1h2020.txt', dataset_path+'dataset/pxsc1h2021.txt', dataset_path+'dataset/pxsc1h2022.txt',\n",
        "    dataset_path+'dataset/tibc1h2015.txt', dataset_path+'dataset/tibc1h2016.txt', dataset_path+'dataset/tibc1h2017.txt', dataset_path+'dataset/tibc1h2018.txt', dataset_path+'dataset/tibc1h2019.txt', dataset_path+'dataset/tibc1h2020.txt', dataset_path+'dataset/tibc1h2021.txt', dataset_path+'dataset/tibc1h2022.txt'\n",
        "]\n",
        "\n",
        "\n",
        "# Initialize an empty DataFrame to store the combined feature data\n",
        "all_feature_data = pd.DataFrame()\n",
        "\n",
        "for feature_file_path in feature_file_paths:\n",
        "    feature_data = pd.read_csv(feature_file_path, delim_whitespace=True, skiprows=[1])\n",
        "    feature_data['timestamp'] = pd.to_datetime(feature_data[['#YY', 'MM', 'DD', 'hh', 'mm']].astype(str).agg(' '.join, axis=1), format='%Y %m %d %H %M')\n",
        "    feature_data['year'] = feature_data['timestamp'].dt.year\n",
        "    feature_data['month'] = feature_data['timestamp'].dt.month\n",
        "    feature_data['day'] = feature_data['timestamp'].dt.day\n",
        "    feature_data['hour'] = feature_data['timestamp'].dt.hour\n",
        "    feature_data['minute'] = feature_data['timestamp'].dt.minute\n",
        "    all_feature_data = pd.concat([all_feature_data, feature_data], axis=0, ignore_index=True)\n",
        "\n",
        "\n",
        "print(f'total count of feature data: {all_feature_data.shape[0]}')\n",
        "\n",
        "\n",
        "\n",
        "# Define the missing value patterns\n",
        "missing_patterns = [99.00, 999, 999.0, 99.0]\n",
        "\n",
        "# Loop through each column and replace each pattern with NaN\n",
        "for column in all_feature_data.columns:\n",
        "    for pattern in missing_patterns:\n",
        "        all_feature_data[column] = all_feature_data[column].replace(to_replace=pattern, value=np.nan, regex=True)\n",
        "\n",
        "missing_data = all_feature_data.isnull().sum()\n",
        "# Display missing data count for each column\n",
        "print('missing data count in raw data:')\n",
        "print(missing_data)\n",
        "\n",
        "# Setting threshold for excessive missing values (e.g., 60%)\n",
        "threshold = 0.6 * len(all_feature_data)\n",
        "\n",
        "# Drop columns with missing values greater than the threshold\n",
        "all_feature_data.dropna(axis=1, thresh=threshold, inplace=True)\n",
        "\n",
        "# Drop rows with any missing values\n",
        "all_feature_data.dropna(axis=0, inplace=True)"
      ]
    },
    {
      "cell_type": "markdown",
      "id": "IW4eU2CxtfYu",
      "metadata": {
        "id": "IW4eU2CxtfYu"
      },
      "source": [
        "Load target file"
      ]
    },
    {
      "cell_type": "code",
      "execution_count": 4,
      "id": "kkTEuvTgmA8p",
      "metadata": {
        "id": "kkTEuvTgmA8p"
      },
      "outputs": [],
      "source": [
        "'''Load target file'''\n",
        "target_file_path = dataset_path+'dataset/storm_data_search_results.csv'\n",
        "target_data = pd.read_csv(target_file_path, sep=',')\n",
        "\n",
        "# Keep only specific columns\n",
        "selected_columns = ['BEGIN_DATE', 'BEGIN_TIME', 'EVENT_TYPE']\n",
        "target_data = target_data[selected_columns]\n",
        "\n",
        "# convert the TIME columns to hourly timestamp\n",
        "target_data['BEGIN_TIME'] = (target_data['BEGIN_TIME'].floordiv(100))\n",
        "target_data['BEGIN_TIME'] = target_data['BEGIN_TIME'].astype(str) + '00'\n",
        "\n",
        "# Convert timestamp columns to a single datetime column\n",
        "target_data['timestamp'] = pd.to_datetime(target_data[['BEGIN_DATE', 'BEGIN_TIME']].astype(str).agg(' '.join, axis=1), format='%m/%d/%Y %H%M')"
      ]
    },
    {
      "cell_type": "code",
      "execution_count": 5,
      "id": "6s6mVZrdrd1-",
      "metadata": {
        "colab": {
          "base_uri": "https://localhost:8080/"
        },
        "id": "6s6mVZrdrd1-",
        "outputId": "35da106b-d64d-4357-8306-ec11eee7e9ed"
      },
      "outputs": [
        {
          "name": "stdout",
          "output_type": "stream",
          "text": [
            "missing data count in prepared data:\n",
            "WDIR          0\n",
            "WSPD          0\n",
            "GST           0\n",
            "PRES          0\n",
            "ATMP          0\n",
            "EVENT_TYPE    0\n",
            "dtype: int64\n",
            "total count of prepared data: 1678318\n"
          ]
        }
      ],
      "source": [
        "'''Merge feature and target data based on the timestamp'''\n",
        "# Merge feature and target data based on the timestamp as event data\n",
        "all_event_data = pd.merge(all_feature_data, target_data, how='right', on='timestamp')\n",
        "\n",
        "# Merge feature and target data based on the timestamp as other data\n",
        "all_other_data = pd.merge(all_feature_data, target_data, how='left', on='timestamp')\n",
        "all_other_data['EVENT_TYPE'].fillna('no', inplace=True)\n",
        "\n",
        "# concatenate two partial data into a whole dataset\n",
        "all_data = pd.concat([all_event_data, all_other_data])\n",
        "\n",
        "# drop some unuseful columns\n",
        "all_data = all_data.drop(['timestamp','BEGIN_DATE', 'BEGIN_TIME', '#YY', 'MM', 'DD', 'hh', 'mm', 'year', 'month', 'day', 'hour', 'minute'], axis=1)\n",
        "# Drop rows with any missing values\n",
        "all_data.dropna(axis=0, inplace=True)\n",
        "all_data.loc[all_data[\"EVENT_TYPE\"] != \"no\", \"EVENT_TYPE\"] = 'yes'\n",
        "\n",
        "print('missing data count in prepared data:')\n",
        "missing_data_prepared = all_data.isnull().sum()\n",
        "print(missing_data_prepared)\n",
        "\n",
        "print(f'total count of prepared data: {len(all_data)}')"
      ]
    },
    {
      "cell_type": "code",
      "execution_count": 6,
      "id": "-CpfIhKNs1WJ",
      "metadata": {
        "colab": {
          "base_uri": "https://localhost:8080/",
          "height": 424
        },
        "id": "-CpfIhKNs1WJ",
        "outputId": "c78db448-2837-4431-f926-6c4be309222c"
      },
      "outputs": [
        {
          "data": {
            "text/html": [
              "\n",
              "  <div id=\"df-46f42c72-caed-41fb-ba4b-bb6564336465\" class=\"colab-df-container\">\n",
              "    <div>\n",
              "<style scoped>\n",
              "    .dataframe tbody tr th:only-of-type {\n",
              "        vertical-align: middle;\n",
              "    }\n",
              "\n",
              "    .dataframe tbody tr th {\n",
              "        vertical-align: top;\n",
              "    }\n",
              "\n",
              "    .dataframe thead th {\n",
              "        text-align: right;\n",
              "    }\n",
              "</style>\n",
              "<table border=\"1\" class=\"dataframe\">\n",
              "  <thead>\n",
              "    <tr style=\"text-align: right;\">\n",
              "      <th></th>\n",
              "      <th>WDIR</th>\n",
              "      <th>WSPD</th>\n",
              "      <th>GST</th>\n",
              "      <th>PRES</th>\n",
              "      <th>ATMP</th>\n",
              "      <th>EVENT_TYPE</th>\n",
              "    </tr>\n",
              "  </thead>\n",
              "  <tbody>\n",
              "    <tr>\n",
              "      <th>0</th>\n",
              "      <td>157.0</td>\n",
              "      <td>5.2</td>\n",
              "      <td>9.4</td>\n",
              "      <td>1017.2</td>\n",
              "      <td>13.2</td>\n",
              "      <td>yes</td>\n",
              "    </tr>\n",
              "    <tr>\n",
              "      <th>1</th>\n",
              "      <td>160.0</td>\n",
              "      <td>5.6</td>\n",
              "      <td>8.5</td>\n",
              "      <td>1018.0</td>\n",
              "      <td>13.3</td>\n",
              "      <td>yes</td>\n",
              "    </tr>\n",
              "    <tr>\n",
              "      <th>2</th>\n",
              "      <td>192.0</td>\n",
              "      <td>6.3</td>\n",
              "      <td>9.0</td>\n",
              "      <td>1020.9</td>\n",
              "      <td>13.9</td>\n",
              "      <td>yes</td>\n",
              "    </tr>\n",
              "    <tr>\n",
              "      <th>3</th>\n",
              "      <td>206.0</td>\n",
              "      <td>1.5</td>\n",
              "      <td>1.7</td>\n",
              "      <td>1004.6</td>\n",
              "      <td>14.2</td>\n",
              "      <td>yes</td>\n",
              "    </tr>\n",
              "    <tr>\n",
              "      <th>4</th>\n",
              "      <td>134.0</td>\n",
              "      <td>2.4</td>\n",
              "      <td>3.1</td>\n",
              "      <td>1003.3</td>\n",
              "      <td>15.8</td>\n",
              "      <td>yes</td>\n",
              "    </tr>\n",
              "    <tr>\n",
              "      <th>...</th>\n",
              "      <td>...</td>\n",
              "      <td>...</td>\n",
              "      <td>...</td>\n",
              "      <td>...</td>\n",
              "      <td>...</td>\n",
              "      <td>...</td>\n",
              "    </tr>\n",
              "    <tr>\n",
              "      <th>1677863</th>\n",
              "      <td>317.0</td>\n",
              "      <td>5.8</td>\n",
              "      <td>8.6</td>\n",
              "      <td>1002.8</td>\n",
              "      <td>10.9</td>\n",
              "      <td>no</td>\n",
              "    </tr>\n",
              "    <tr>\n",
              "      <th>1677864</th>\n",
              "      <td>320.0</td>\n",
              "      <td>7.1</td>\n",
              "      <td>8.8</td>\n",
              "      <td>1002.9</td>\n",
              "      <td>10.8</td>\n",
              "      <td>no</td>\n",
              "    </tr>\n",
              "    <tr>\n",
              "      <th>1677865</th>\n",
              "      <td>312.0</td>\n",
              "      <td>7.2</td>\n",
              "      <td>10.6</td>\n",
              "      <td>1003.0</td>\n",
              "      <td>10.7</td>\n",
              "      <td>no</td>\n",
              "    </tr>\n",
              "    <tr>\n",
              "      <th>1677866</th>\n",
              "      <td>317.0</td>\n",
              "      <td>7.9</td>\n",
              "      <td>11.1</td>\n",
              "      <td>1003.1</td>\n",
              "      <td>10.9</td>\n",
              "      <td>no</td>\n",
              "    </tr>\n",
              "    <tr>\n",
              "      <th>1677867</th>\n",
              "      <td>187.0</td>\n",
              "      <td>2.2</td>\n",
              "      <td>2.2</td>\n",
              "      <td>1018.0</td>\n",
              "      <td>13.6</td>\n",
              "      <td>no</td>\n",
              "    </tr>\n",
              "  </tbody>\n",
              "</table>\n",
              "<p>1678318 rows × 6 columns</p>\n",
              "</div>\n",
              "    <div class=\"colab-df-buttons\">\n",
              "\n",
              "  <div class=\"colab-df-container\">\n",
              "    <button class=\"colab-df-convert\" onclick=\"convertToInteractive('df-46f42c72-caed-41fb-ba4b-bb6564336465')\"\n",
              "            title=\"Convert this dataframe to an interactive table.\"\n",
              "            style=\"display:none;\">\n",
              "\n",
              "  <svg xmlns=\"http://www.w3.org/2000/svg\" height=\"24px\" viewBox=\"0 -960 960 960\">\n",
              "    <path d=\"M120-120v-720h720v720H120Zm60-500h600v-160H180v160Zm220 220h160v-160H400v160Zm0 220h160v-160H400v160ZM180-400h160v-160H180v160Zm440 0h160v-160H620v160ZM180-180h160v-160H180v160Zm440 0h160v-160H620v160Z\"/>\n",
              "  </svg>\n",
              "    </button>\n",
              "\n",
              "  <style>\n",
              "    .colab-df-container {\n",
              "      display:flex;\n",
              "      gap: 12px;\n",
              "    }\n",
              "\n",
              "    .colab-df-convert {\n",
              "      background-color: #E8F0FE;\n",
              "      border: none;\n",
              "      border-radius: 50%;\n",
              "      cursor: pointer;\n",
              "      display: none;\n",
              "      fill: #1967D2;\n",
              "      height: 32px;\n",
              "      padding: 0 0 0 0;\n",
              "      width: 32px;\n",
              "    }\n",
              "\n",
              "    .colab-df-convert:hover {\n",
              "      background-color: #E2EBFA;\n",
              "      box-shadow: 0px 1px 2px rgba(60, 64, 67, 0.3), 0px 1px 3px 1px rgba(60, 64, 67, 0.15);\n",
              "      fill: #174EA6;\n",
              "    }\n",
              "\n",
              "    .colab-df-buttons div {\n",
              "      margin-bottom: 4px;\n",
              "    }\n",
              "\n",
              "    [theme=dark] .colab-df-convert {\n",
              "      background-color: #3B4455;\n",
              "      fill: #D2E3FC;\n",
              "    }\n",
              "\n",
              "    [theme=dark] .colab-df-convert:hover {\n",
              "      background-color: #434B5C;\n",
              "      box-shadow: 0px 1px 3px 1px rgba(0, 0, 0, 0.15);\n",
              "      filter: drop-shadow(0px 1px 2px rgba(0, 0, 0, 0.3));\n",
              "      fill: #FFFFFF;\n",
              "    }\n",
              "  </style>\n",
              "\n",
              "    <script>\n",
              "      const buttonEl =\n",
              "        document.querySelector('#df-46f42c72-caed-41fb-ba4b-bb6564336465 button.colab-df-convert');\n",
              "      buttonEl.style.display =\n",
              "        google.colab.kernel.accessAllowed ? 'block' : 'none';\n",
              "\n",
              "      async function convertToInteractive(key) {\n",
              "        const element = document.querySelector('#df-46f42c72-caed-41fb-ba4b-bb6564336465');\n",
              "        const dataTable =\n",
              "          await google.colab.kernel.invokeFunction('convertToInteractive',\n",
              "                                                    [key], {});\n",
              "        if (!dataTable) return;\n",
              "\n",
              "        const docLinkHtml = 'Like what you see? Visit the ' +\n",
              "          '<a target=\"_blank\" href=https://colab.research.google.com/notebooks/data_table.ipynb>data table notebook</a>'\n",
              "          + ' to learn more about interactive tables.';\n",
              "        element.innerHTML = '';\n",
              "        dataTable['output_type'] = 'display_data';\n",
              "        await google.colab.output.renderOutput(dataTable, element);\n",
              "        const docLink = document.createElement('div');\n",
              "        docLink.innerHTML = docLinkHtml;\n",
              "        element.appendChild(docLink);\n",
              "      }\n",
              "    </script>\n",
              "  </div>\n",
              "\n",
              "\n",
              "<div id=\"df-d5a6f2d1-607e-4f13-bf10-abd71bd86528\">\n",
              "  <button class=\"colab-df-quickchart\" onclick=\"quickchart('df-d5a6f2d1-607e-4f13-bf10-abd71bd86528')\"\n",
              "            title=\"Suggest charts\"\n",
              "            style=\"display:none;\">\n",
              "\n",
              "<svg xmlns=\"http://www.w3.org/2000/svg\" height=\"24px\"viewBox=\"0 0 24 24\"\n",
              "     width=\"24px\">\n",
              "    <g>\n",
              "        <path d=\"M19 3H5c-1.1 0-2 .9-2 2v14c0 1.1.9 2 2 2h14c1.1 0 2-.9 2-2V5c0-1.1-.9-2-2-2zM9 17H7v-7h2v7zm4 0h-2V7h2v10zm4 0h-2v-4h2v4z\"/>\n",
              "    </g>\n",
              "</svg>\n",
              "  </button>\n",
              "\n",
              "<style>\n",
              "  .colab-df-quickchart {\n",
              "      --bg-color: #E8F0FE;\n",
              "      --fill-color: #1967D2;\n",
              "      --hover-bg-color: #E2EBFA;\n",
              "      --hover-fill-color: #174EA6;\n",
              "      --disabled-fill-color: #AAA;\n",
              "      --disabled-bg-color: #DDD;\n",
              "  }\n",
              "\n",
              "  [theme=dark] .colab-df-quickchart {\n",
              "      --bg-color: #3B4455;\n",
              "      --fill-color: #D2E3FC;\n",
              "      --hover-bg-color: #434B5C;\n",
              "      --hover-fill-color: #FFFFFF;\n",
              "      --disabled-bg-color: #3B4455;\n",
              "      --disabled-fill-color: #666;\n",
              "  }\n",
              "\n",
              "  .colab-df-quickchart {\n",
              "    background-color: var(--bg-color);\n",
              "    border: none;\n",
              "    border-radius: 50%;\n",
              "    cursor: pointer;\n",
              "    display: none;\n",
              "    fill: var(--fill-color);\n",
              "    height: 32px;\n",
              "    padding: 0;\n",
              "    width: 32px;\n",
              "  }\n",
              "\n",
              "  .colab-df-quickchart:hover {\n",
              "    background-color: var(--hover-bg-color);\n",
              "    box-shadow: 0 1px 2px rgba(60, 64, 67, 0.3), 0 1px 3px 1px rgba(60, 64, 67, 0.15);\n",
              "    fill: var(--button-hover-fill-color);\n",
              "  }\n",
              "\n",
              "  .colab-df-quickchart-complete:disabled,\n",
              "  .colab-df-quickchart-complete:disabled:hover {\n",
              "    background-color: var(--disabled-bg-color);\n",
              "    fill: var(--disabled-fill-color);\n",
              "    box-shadow: none;\n",
              "  }\n",
              "\n",
              "  .colab-df-spinner {\n",
              "    border: 2px solid var(--fill-color);\n",
              "    border-color: transparent;\n",
              "    border-bottom-color: var(--fill-color);\n",
              "    animation:\n",
              "      spin 1s steps(1) infinite;\n",
              "  }\n",
              "\n",
              "  @keyframes spin {\n",
              "    0% {\n",
              "      border-color: transparent;\n",
              "      border-bottom-color: var(--fill-color);\n",
              "      border-left-color: var(--fill-color);\n",
              "    }\n",
              "    20% {\n",
              "      border-color: transparent;\n",
              "      border-left-color: var(--fill-color);\n",
              "      border-top-color: var(--fill-color);\n",
              "    }\n",
              "    30% {\n",
              "      border-color: transparent;\n",
              "      border-left-color: var(--fill-color);\n",
              "      border-top-color: var(--fill-color);\n",
              "      border-right-color: var(--fill-color);\n",
              "    }\n",
              "    40% {\n",
              "      border-color: transparent;\n",
              "      border-right-color: var(--fill-color);\n",
              "      border-top-color: var(--fill-color);\n",
              "    }\n",
              "    60% {\n",
              "      border-color: transparent;\n",
              "      border-right-color: var(--fill-color);\n",
              "    }\n",
              "    80% {\n",
              "      border-color: transparent;\n",
              "      border-right-color: var(--fill-color);\n",
              "      border-bottom-color: var(--fill-color);\n",
              "    }\n",
              "    90% {\n",
              "      border-color: transparent;\n",
              "      border-bottom-color: var(--fill-color);\n",
              "    }\n",
              "  }\n",
              "</style>\n",
              "\n",
              "  <script>\n",
              "    async function quickchart(key) {\n",
              "      const quickchartButtonEl =\n",
              "        document.querySelector('#' + key + ' button');\n",
              "      quickchartButtonEl.disabled = true;  // To prevent multiple clicks.\n",
              "      quickchartButtonEl.classList.add('colab-df-spinner');\n",
              "      try {\n",
              "        const charts = await google.colab.kernel.invokeFunction(\n",
              "            'suggestCharts', [key], {});\n",
              "      } catch (error) {\n",
              "        console.error('Error during call to suggestCharts:', error);\n",
              "      }\n",
              "      quickchartButtonEl.classList.remove('colab-df-spinner');\n",
              "      quickchartButtonEl.classList.add('colab-df-quickchart-complete');\n",
              "    }\n",
              "    (() => {\n",
              "      let quickchartButtonEl =\n",
              "        document.querySelector('#df-d5a6f2d1-607e-4f13-bf10-abd71bd86528 button');\n",
              "      quickchartButtonEl.style.display =\n",
              "        google.colab.kernel.accessAllowed ? 'block' : 'none';\n",
              "    })();\n",
              "  </script>\n",
              "</div>\n",
              "    </div>\n",
              "  </div>\n"
            ],
            "text/plain": [
              "          WDIR  WSPD   GST    PRES  ATMP EVENT_TYPE\n",
              "0        157.0   5.2   9.4  1017.2  13.2        yes\n",
              "1        160.0   5.6   8.5  1018.0  13.3        yes\n",
              "2        192.0   6.3   9.0  1020.9  13.9        yes\n",
              "3        206.0   1.5   1.7  1004.6  14.2        yes\n",
              "4        134.0   2.4   3.1  1003.3  15.8        yes\n",
              "...        ...   ...   ...     ...   ...        ...\n",
              "1677863  317.0   5.8   8.6  1002.8  10.9         no\n",
              "1677864  320.0   7.1   8.8  1002.9  10.8         no\n",
              "1677865  312.0   7.2  10.6  1003.0  10.7         no\n",
              "1677866  317.0   7.9  11.1  1003.1  10.9         no\n",
              "1677867  187.0   2.2   2.2  1018.0  13.6         no\n",
              "\n",
              "[1678318 rows x 6 columns]"
            ]
          },
          "execution_count": 6,
          "metadata": {},
          "output_type": "execute_result"
        }
      ],
      "source": [
        "all_data"
      ]
    },
    {
      "cell_type": "markdown",
      "id": "-cPWrO2DxZvD",
      "metadata": {
        "id": "-cPWrO2DxZvD"
      },
      "source": [
        "Identify features and target variable"
      ]
    },
    {
      "cell_type": "code",
      "execution_count": 7,
      "id": "6e44f120",
      "metadata": {
        "colab": {
          "base_uri": "https://localhost:8080/"
        },
        "id": "6e44f120",
        "outputId": "478da48c-4dac-42e9-9b8d-15d4854a852e"
      },
      "outputs": [
        {
          "name": "stdout",
          "output_type": "stream",
          "text": [
            "900\n"
          ]
        }
      ],
      "source": [
        "# Identify features and target variable\n",
        "X = all_data.drop(['EVENT_TYPE'], axis=1)\n",
        "y = all_data['EVENT_TYPE']\n",
        "\n",
        "yes_count = all_data['EVENT_TYPE'].value_counts().get('yes', 0)\n",
        "print(yes_count)"
      ]
    },
    {
      "cell_type": "markdown",
      "id": "7iO0nSNgFMsd",
      "metadata": {
        "id": "7iO0nSNgFMsd"
      },
      "source": [
        "Split training and test dataset"
      ]
    },
    {
      "cell_type": "code",
      "execution_count": 8,
      "id": "qG3R2YpjFL7V",
      "metadata": {
        "colab": {
          "base_uri": "https://localhost:8080/"
        },
        "id": "qG3R2YpjFL7V",
        "outputId": "33c49d09-e703-4001-eaf1-34ac313d4acc"
      },
      "outputs": [
        {
          "name": "stdout",
          "output_type": "stream",
          "text": [
            "no     720\n",
            "yes    720\n",
            "Name: EVENT_TYPE, dtype: int64\n",
            "<class 'pandas.core.frame.DataFrame'>\n"
          ]
        }
      ],
      "source": [
        "# Split the data into training and testing sets\n",
        "X_train, X_test, y_train, y_test = train_test_split(X, y, test_size=0.2, random_state=42, stratify=y)\n",
        "# Combine X_train and y_train into a single DataFrame for undersampling\n",
        "train_data = pd.concat([X_train, y_train], axis=1)\n",
        "\n",
        "# Identify the minority class label\n",
        "minority_class_label = train_data['EVENT_TYPE'].value_counts().idxmin()\n",
        "\n",
        "# Apply random undersampling\n",
        "undersampler = RandomUnderSampler(sampling_strategy='auto', random_state=42)\n",
        "X_resampled, y_resampled = undersampler.fit_resample(train_data.drop('EVENT_TYPE', axis=1), train_data['EVENT_TYPE'])\n",
        "print(y_resampled.value_counts())\n",
        "\n",
        "print(type(X_resampled))\n",
        "\n",
        "df_train = pd.concat([X_resampled, y_resampled], axis = 1)\n",
        "df_test = pd.concat([X_test, y_test], axis = 1)"
      ]
    },
    {
      "cell_type": "markdown",
      "metadata": {},
      "source": [
        "Building the SparkSession"
      ]
    },
    {
      "cell_type": "code",
      "execution_count": null,
      "metadata": {},
      "outputs": [],
      "source": [
        "# Building the SparkSession and name it :'pandas to spark'\n",
        "spark = SparkSession.builder.appName(\"ML_App\").getOrCreate()\n",
        "\n",
        "# create DataFrame\n",
        "df_train_spark = spark.createDataFrame(df_train)\n",
        "\n",
        "df_test_spark = spark.createDataFrame(df_test)"
      ]
    },
    {
      "cell_type": "code",
      "execution_count": null,
      "metadata": {},
      "outputs": [],
      "source": [
        "# Create a feature vector by combining all the features\n",
        "assembler = VectorAssembler(inputCols=[\"WDIR\", \"WSPD\", \"GST\", \"PRES\", \"ATMP\"], outputCol=\"features\")\n",
        "\n",
        "# Transform the data to create the feature vector\n",
        "train_data = assembler.transform(df_train_spark)\n",
        "test_data = assembler.transform(df_test_spark)\n",
        "\n",
        "label_stringIdx = StringIndexer(inputCol = 'EVENT_TYPE', outputCol = 'labelIndex')\n",
        "train_data = label_stringIdx.fit(train_data).transform(train_data)\n",
        "test_data = label_stringIdx.fit(test_data).transform(test_data)\n",
        "train_data.show()"
      ]
    },
    {
      "cell_type": "markdown",
      "id": "mATn4tK5xb2K",
      "metadata": {
        "id": "mATn4tK5xb2K"
      },
      "source": [
        "Random Forest Classifier"
      ]
    },
    {
      "cell_type": "code",
      "execution_count": null,
      "id": "7O1dxG8eE1q6",
      "metadata": {
        "colab": {
          "base_uri": "https://localhost:8080/"
        },
        "id": "7O1dxG8eE1q6",
        "outputId": "132436ca-09c7-4d8b-e197-c6bde135f5c3"
      },
      "outputs": [],
      "source": [
        "'''# Train model on the resampled data\n",
        "model = RandomForestClassifier(n_estimators=100, random_state=42)\n",
        "model.fit(X_resampled, y_resampled)\n",
        "\n",
        "# Make predictions on the test set\n",
        "test_predictions = model.predict(X_test)\n",
        "\n",
        "# Evaluate the model\n",
        "accuracy = accuracy_score(y_test, test_predictions)\n",
        "print(f'Accuracy on test set: {accuracy}')'''"
      ]
    },
    {
      "cell_type": "code",
      "execution_count": null,
      "id": "7a3bd855",
      "metadata": {},
      "outputs": [],
      "source": [
        "from pyspark.ml.classification import RandomForestClassifier\n",
        "\n",
        "rf = RandomForestClassifier(featuresCol = 'features', labelCol = 'labelIndex', numTrees=40, maxDepth=3)\n",
        "rf_model = rf.fit(train_data)\n",
        "rf_predictions = rf_model.transform(test_data)\n",
        "# rf_predictions.select('labelIndex', 'rawPrediction', 'prediction', 'probability').show(25)"
      ]
    },
    {
      "cell_type": "code",
      "execution_count": null,
      "metadata": {},
      "outputs": [],
      "source": [
        "from pyspark.ml.evaluation import MulticlassClassificationEvaluator\n",
        "\n",
        "rf_evaluator = MulticlassClassificationEvaluator(labelCol=\"labelIndex\", predictionCol=\"prediction\")\n",
        "accuracy = rf_evaluator.evaluate(rf_predictions)\n",
        "print(f'Accuracy = {accuracy:.4f}')\n",
        "print(f'Test Error = {(1.0 - accuracy):.4f}')"
      ]
    },
    {
      "cell_type": "markdown",
      "id": "6cfG0qVhxhDR",
      "metadata": {
        "id": "6cfG0qVhxhDR"
      },
      "source": [
        "Gradient Boosting Classifier"
      ]
    },
    {
      "cell_type": "code",
      "execution_count": null,
      "metadata": {},
      "outputs": [],
      "source": [
        "from pyspark.ml.classification import GBTClassifier\n",
        "\n",
        "gb = GBTClassifier(featuresCol = 'features', labelCol = 'labelIndex', maxIter=50)\n",
        "gb_model = gb.fit(train_data)\n",
        "gb_predictions = gb_model.transform(test_data)"
      ]
    },
    {
      "cell_type": "code",
      "execution_count": null,
      "metadata": {},
      "outputs": [],
      "source": [
        "gb_evaluator = MulticlassClassificationEvaluator(labelCol=\"labelIndex\", predictionCol=\"prediction\")\n",
        "accuracy = gb_evaluator.evaluate(gb_predictions)\n",
        "print(f'Accuracy = {accuracy:.4f}')\n",
        "print(f'Test Error = {(1.0 - accuracy):.4f}')"
      ]
    },
    {
      "cell_type": "code",
      "execution_count": null,
      "id": "ce8ff4a4",
      "metadata": {
        "colab": {
          "base_uri": "https://localhost:8080/"
        },
        "id": "ce8ff4a4",
        "outputId": "6566c0ab-dc61-43d4-8c5e-4e34748a9024"
      },
      "outputs": [],
      "source": [
        "# # Train model on the resampled data\n",
        "# GradienBoosting_cl = GradientBoostingClassifier(n_estimators=10, learning_rate=0.1, random_state=42)\n",
        "# GradienBoosting_cl.fit(X_resampled, y_resampled)\n",
        "\n",
        "# # Make predictions on the test set\n",
        "# GradienBoosting_pred = GradienBoosting_cl.predict(X_test)\n",
        "\n",
        "# # Evaluate the model\n",
        "# accuracy = accuracy_score(y_test, GradienBoosting_pred)\n",
        "# print(f'Accuracy for Gradient Boosting Classifier on test set: {accuracy}')"
      ]
    },
    {
      "cell_type": "markdown",
      "id": "qpkXWEr9zWzD",
      "metadata": {
        "id": "qpkXWEr9zWzD"
      },
      "source": [
        "XGBoost"
      ]
    },
    {
      "cell_type": "code",
      "execution_count": null,
      "metadata": {},
      "outputs": [],
      "source": [
        "from xgboost.spark import SparkXGBClassifier\n",
        "\n",
        "xgb = SparkXGBClassifier(label_col=\"labelIndex\", missing=0.0)\n",
        "xgb_model = xgb.fit(train_data)\n",
        "xgb_predictions = xgb_model.transform(test_data)"
      ]
    },
    {
      "cell_type": "code",
      "execution_count": null,
      "metadata": {},
      "outputs": [],
      "source": [
        "xgb_evaluator = MulticlassClassificationEvaluator(labelCol=\"label\", predictionCol=\"prediction\")\n",
        "accuracy = accuracy_score(y_test_xgb, xgb_pred)\n",
        "print(f'Accuracy = {accuracy:.4f}')\n",
        "print(f'Test Error = {(1.0 - accuracy):.4f}')"
      ]
    },
    {
      "cell_type": "code",
      "execution_count": null,
      "id": "wGP5GonMzebc",
      "metadata": {
        "colab": {
          "base_uri": "https://localhost:8080/"
        },
        "id": "wGP5GonMzebc",
        "outputId": "3e1ea14f-2df6-40db-9525-3aa0e6480132"
      },
      "outputs": [],
      "source": [
        "# import xgboost as xgb\n",
        "\n",
        "# # convert y value: no = 0, yes = 1\n",
        "# y_resampled_xgb = y_resampled.replace(to_replace=\"no\", value=0)\n",
        "# y_resampled_xgb = y_resampled_xgb.replace(to_replace=\"yes\", value=1)\n",
        "# y_test_xgb = y_test.replace(to_replace=\"no\", value=0)\n",
        "# y_test_xgb = y_test_xgb.replace(to_replace=\"yes\", value=1)\n",
        "\n",
        "# xgb_cl = xgb.XGBClassifier(objective=\"binary:logistic\", random_state=42)\n",
        "# xgb_cl.fit(X_resampled, y_resampled_xgb)\n",
        "\n",
        "# xgb_pred = xgb_cl.predict(X_test)\n",
        "\n",
        "# # Evaluate the model\n",
        "# accuracy = accuracy_score(y_test_xgb, xgb_pred)\n",
        "# print(f'Accuracy for XGBoost Classifier on test set: {accuracy}')"
      ]
    }
  ],
  "metadata": {
    "colab": {
      "provenance": []
    },
    "kernelspec": {
      "display_name": "Python 3 (ipykernel)",
      "language": "python",
      "name": "python3"
    },
    "language_info": {
      "codemirror_mode": {
        "name": "ipython",
        "version": 3
      },
      "file_extension": ".py",
      "mimetype": "text/x-python",
      "name": "python",
      "nbconvert_exporter": "python",
      "pygments_lexer": "ipython3",
      "version": "3.9.12"
    }
  },
  "nbformat": 4,
  "nbformat_minor": 5
}
